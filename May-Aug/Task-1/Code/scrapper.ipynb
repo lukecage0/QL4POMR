{
 "cells": [
  {
   "cell_type": "code",
   "execution_count": 93,
   "metadata": {},
   "outputs": [
    {
     "name": "stdout",
     "output_type": "stream",
     "text": [
      "Requirement already satisfied: requests_html in /usr/local/lib/python3.11/site-packages (0.10.0)\n",
      "Requirement already satisfied: requests in /usr/local/lib/python3.11/site-packages (from requests_html) (2.31.0)\n",
      "Requirement already satisfied: pyquery in /usr/local/lib/python3.11/site-packages (from requests_html) (2.0.0)\n",
      "Requirement already satisfied: fake-useragent in /usr/local/lib/python3.11/site-packages (from requests_html) (1.2.1)\n",
      "Requirement already satisfied: parse in /usr/local/lib/python3.11/site-packages (from requests_html) (1.19.1)\n",
      "Requirement already satisfied: bs4 in /usr/local/lib/python3.11/site-packages (from requests_html) (0.0.1)\n",
      "Requirement already satisfied: w3lib in /usr/local/lib/python3.11/site-packages (from requests_html) (2.1.2)\n",
      "Requirement already satisfied: pyppeteer>=0.0.14 in /usr/local/lib/python3.11/site-packages (from requests_html) (1.0.2)\n",
      "Requirement already satisfied: appdirs<2.0.0,>=1.4.3 in /usr/local/lib/python3.11/site-packages (from pyppeteer>=0.0.14->requests_html) (1.4.4)\n",
      "Requirement already satisfied: certifi>=2021 in /usr/local/lib/python3.11/site-packages (from pyppeteer>=0.0.14->requests_html) (2023.7.22)\n",
      "Requirement already satisfied: importlib-metadata>=1.4 in /usr/local/lib/python3.11/site-packages (from pyppeteer>=0.0.14->requests_html) (6.8.0)\n",
      "Requirement already satisfied: pyee<9.0.0,>=8.1.0 in /usr/local/lib/python3.11/site-packages (from pyppeteer>=0.0.14->requests_html) (8.2.2)\n",
      "Requirement already satisfied: tqdm<5.0.0,>=4.42.1 in /usr/local/lib/python3.11/site-packages (from pyppeteer>=0.0.14->requests_html) (4.65.0)\n",
      "Requirement already satisfied: urllib3<2.0.0,>=1.25.8 in /usr/local/lib/python3.11/site-packages (from pyppeteer>=0.0.14->requests_html) (1.26.16)\n",
      "Requirement already satisfied: websockets<11.0,>=10.0 in /usr/local/lib/python3.11/site-packages (from pyppeteer>=0.0.14->requests_html) (10.4)\n",
      "Requirement already satisfied: beautifulsoup4 in /usr/local/lib/python3.11/site-packages (from bs4->requests_html) (4.12.2)\n",
      "Requirement already satisfied: lxml>=2.1 in /usr/local/lib/python3.11/site-packages (from pyquery->requests_html) (4.9.3)\n",
      "Requirement already satisfied: cssselect>=1.2.0 in /usr/local/lib/python3.11/site-packages (from pyquery->requests_html) (1.2.0)\n",
      "Requirement already satisfied: charset-normalizer<4,>=2 in /usr/local/lib/python3.11/site-packages (from requests->requests_html) (3.2.0)\n",
      "Requirement already satisfied: idna<4,>=2.5 in /usr/local/lib/python3.11/site-packages (from requests->requests_html) (3.4)\n",
      "Requirement already satisfied: zipp>=0.5 in /usr/local/lib/python3.11/site-packages (from importlib-metadata>=1.4->pyppeteer>=0.0.14->requests_html) (3.16.2)\n",
      "Requirement already satisfied: soupsieve>1.2 in /usr/local/lib/python3.11/site-packages (from beautifulsoup4->bs4->requests_html) (2.4.1)\n",
      "\n",
      "\u001b[1m[\u001b[0m\u001b[34;49mnotice\u001b[0m\u001b[1;39;49m]\u001b[0m\u001b[39;49m A new release of pip is available: \u001b[0m\u001b[31;49m23.0.1\u001b[0m\u001b[39;49m -> \u001b[0m\u001b[32;49m23.3.1\u001b[0m\n",
      "\u001b[1m[\u001b[0m\u001b[34;49mnotice\u001b[0m\u001b[1;39;49m]\u001b[0m\u001b[39;49m To update, run: \u001b[0m\u001b[32;49mpython3.11 -m pip install --upgrade pip\u001b[0m\n",
      "Requirement already satisfied: PyPDF2 in /usr/local/lib/python3.11/site-packages (3.0.1)\n",
      "\n",
      "\u001b[1m[\u001b[0m\u001b[34;49mnotice\u001b[0m\u001b[1;39;49m]\u001b[0m\u001b[39;49m A new release of pip is available: \u001b[0m\u001b[31;49m23.0.1\u001b[0m\u001b[39;49m -> \u001b[0m\u001b[32;49m23.3.1\u001b[0m\n",
      "\u001b[1m[\u001b[0m\u001b[34;49mnotice\u001b[0m\u001b[1;39;49m]\u001b[0m\u001b[39;49m To update, run: \u001b[0m\u001b[32;49mpython3.11 -m pip install --upgrade pip\u001b[0m\n",
      "Requirement already satisfied: rouge in /usr/local/lib/python3.11/site-packages (1.0.1)\n",
      "Requirement already satisfied: six in /usr/local/lib/python3.11/site-packages (from rouge) (1.16.0)\n",
      "\n",
      "\u001b[1m[\u001b[0m\u001b[34;49mnotice\u001b[0m\u001b[1;39;49m]\u001b[0m\u001b[39;49m A new release of pip is available: \u001b[0m\u001b[31;49m23.0.1\u001b[0m\u001b[39;49m -> \u001b[0m\u001b[32;49m23.3.1\u001b[0m\n",
      "\u001b[1m[\u001b[0m\u001b[34;49mnotice\u001b[0m\u001b[1;39;49m]\u001b[0m\u001b[39;49m To update, run: \u001b[0m\u001b[32;49mpython3.11 -m pip install --upgrade pip\u001b[0m\n",
      "Requirement already satisfied: openpyxl in /usr/local/lib/python3.11/site-packages (3.1.2)\n",
      "Requirement already satisfied: et-xmlfile in /usr/local/lib/python3.11/site-packages (from openpyxl) (1.1.0)\n",
      "\n",
      "\u001b[1m[\u001b[0m\u001b[34;49mnotice\u001b[0m\u001b[1;39;49m]\u001b[0m\u001b[39;49m A new release of pip is available: \u001b[0m\u001b[31;49m23.0.1\u001b[0m\u001b[39;49m -> \u001b[0m\u001b[32;49m23.3.1\u001b[0m\n",
      "\u001b[1m[\u001b[0m\u001b[34;49mnotice\u001b[0m\u001b[1;39;49m]\u001b[0m\u001b[39;49m To update, run: \u001b[0m\u001b[32;49mpython3.11 -m pip install --upgrade pip\u001b[0m\n"
     ]
    }
   ],
   "source": [
    "!pip3 install requests_html\n",
    "!pip3 install PyPDF2\n",
    "!pip3 install rouge\n",
    "!pip3 install openpyxl\n"
   ]
  },
  {
   "cell_type": "code",
   "execution_count": 94,
   "metadata": {},
   "outputs": [],
   "source": [
    "from requests_html import HTMLSession\n",
    "from requests.exceptions import ConnectionError\n",
    "from bs4 import BeautifulSoup\n",
    "import re\n",
    "from openpyxl import Workbook"
   ]
  },
  {
   "cell_type": "code",
   "execution_count": 95,
   "metadata": {},
   "outputs": [],
   "source": [
    "s= HTMLSession()"
   ]
  },
  {
   "cell_type": "code",
   "execution_count": 96,
   "metadata": {},
   "outputs": [],
   "source": [
    "def clean_string(text):\n",
    "    text = re.sub(r'\\s+', ' ', text)\n",
    "    text = text.strip()\n",
    "    text = text.replace('\\n', '')\n",
    "    return text\n",
    "\n",
    "def convert_to_map(lst):\n",
    "    map_dict = {item.split(':')[0].strip(): item.split(':')[1].strip() for item in lst}\n",
    "    return map_dict"
   ]
  },
  {
   "cell_type": "code",
   "execution_count": 97,
   "metadata": {},
   "outputs": [],
   "source": [
    "headers={'user-agent': 'Mozilla/5.0 (Macintosh; Intel Mac OS X 10_15_7) AppleWebKit/537.36 (KHTML, like Gecko) Chrome/113.0.0.0 Safari/537.36 Edg/113.0.1774.57'}\n",
    "file= open('input.txt','r')\n",
    "ids= file.readlines()\n",
    "base_url='https://pubmed.ncbi.nlm.nih.gov/'\n",
    "total_abstracts={}\n",
    "for id in ids:\n",
    "    pmcid= id.strip()\n",
    "    r=s.get(base_url+pmcid+'/',headers=headers,timeout=5)\n",
    "    soup = BeautifulSoup(r.content, 'html.parser')\n",
    "    div_abstract = soup.find('div', {'class': 'abstract'})\n",
    "\n",
    "    if div_abstract:\n",
    "        abstract_components= div_abstract.find_all('p')\n",
    "        abstract_components=[clean_string(abstract.text.strip()) for abstract in abstract_components]\n",
    "        total_abstracts[id]=abstract_components"
   ]
  },
  {
   "cell_type": "code",
   "execution_count": null,
   "metadata": {},
   "outputs": [],
   "source": [
    "def write_nested_map_to_excel(nested_map, filename):\n",
    "    workbook = Workbook()\n",
    "    sheet = workbook.active\n",
    "    row = 1\n",
    "    for outer_key, value_list in nested_map.items():\n",
    "        sheet.cell(row=row, column=1, value=outer_key)\n",
    "        # Check if value_list is a list and is not empty before accessing its first item\n",
    "        if isinstance(value_list, list) and value_list:\n",
    "            sheet.cell(row=row, column=2, value=value_list[0])\n",
    "        else:\n",
    "            sheet.cell(row=row, column=2, value=\"No data\")  # You can change \"No data\" to any placeholder value you prefer\n",
    "        row += 1 \n",
    "    workbook.save(filename)"
   ]
  },
  {
   "cell_type": "code",
   "execution_count": null,
   "metadata": {},
   "outputs": [],
   "source": [
    "write_nested_map_to_excel(total_abstracts, 'output.xlsx')"
   ]
  }
 ],
 "metadata": {
  "kernelspec": {
   "display_name": "base",
   "language": "python",
   "name": "python3"
  },
  "language_info": {
   "codemirror_mode": {
    "name": "ipython",
    "version": 3
   },
   "file_extension": ".py",
   "mimetype": "text/x-python",
   "name": "python",
   "nbconvert_exporter": "python",
   "pygments_lexer": "ipython3",
   "version": "3.11.4"
  },
  "orig_nbformat": 4
 },
 "nbformat": 4,
 "nbformat_minor": 2
}
