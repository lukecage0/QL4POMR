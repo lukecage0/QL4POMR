{
 "cells": [
  {
   "cell_type": "code",
   "execution_count": 26,
   "metadata": {},
   "outputs": [
    {
     "name": "stdout",
     "output_type": "stream",
     "text": [
      "Requirement already satisfied: requests_html in /usr/local/lib/python3.11/site-packages (0.10.0)\n",
      "Requirement already satisfied: requests in /usr/local/lib/python3.11/site-packages (from requests_html) (2.31.0)\n",
      "Requirement already satisfied: pyquery in /usr/local/lib/python3.11/site-packages (from requests_html) (2.0.0)\n",
      "Requirement already satisfied: fake-useragent in /usr/local/lib/python3.11/site-packages (from requests_html) (1.2.1)\n",
      "Requirement already satisfied: parse in /usr/local/lib/python3.11/site-packages (from requests_html) (1.19.1)\n",
      "Requirement already satisfied: bs4 in /usr/local/lib/python3.11/site-packages (from requests_html) (0.0.1)\n",
      "Requirement already satisfied: w3lib in /usr/local/lib/python3.11/site-packages (from requests_html) (2.1.2)\n",
      "Requirement already satisfied: pyppeteer>=0.0.14 in /usr/local/lib/python3.11/site-packages (from requests_html) (1.0.2)\n",
      "Requirement already satisfied: appdirs<2.0.0,>=1.4.3 in /usr/local/lib/python3.11/site-packages (from pyppeteer>=0.0.14->requests_html) (1.4.4)\n",
      "Requirement already satisfied: certifi>=2021 in /usr/local/lib/python3.11/site-packages (from pyppeteer>=0.0.14->requests_html) (2023.7.22)\n",
      "Requirement already satisfied: importlib-metadata>=1.4 in /usr/local/lib/python3.11/site-packages (from pyppeteer>=0.0.14->requests_html) (6.8.0)\n",
      "Requirement already satisfied: pyee<9.0.0,>=8.1.0 in /usr/local/lib/python3.11/site-packages (from pyppeteer>=0.0.14->requests_html) (8.2.2)\n",
      "Requirement already satisfied: tqdm<5.0.0,>=4.42.1 in /usr/local/lib/python3.11/site-packages (from pyppeteer>=0.0.14->requests_html) (4.65.0)\n",
      "Requirement already satisfied: urllib3<2.0.0,>=1.25.8 in /usr/local/lib/python3.11/site-packages (from pyppeteer>=0.0.14->requests_html) (1.26.16)\n",
      "Requirement already satisfied: websockets<11.0,>=10.0 in /usr/local/lib/python3.11/site-packages (from pyppeteer>=0.0.14->requests_html) (10.4)\n",
      "Requirement already satisfied: beautifulsoup4 in /usr/local/lib/python3.11/site-packages (from bs4->requests_html) (4.12.2)\n",
      "Requirement already satisfied: lxml>=2.1 in /usr/local/lib/python3.11/site-packages (from pyquery->requests_html) (4.9.3)\n",
      "Requirement already satisfied: cssselect>=1.2.0 in /usr/local/lib/python3.11/site-packages (from pyquery->requests_html) (1.2.0)\n",
      "Requirement already satisfied: charset-normalizer<4,>=2 in /usr/local/lib/python3.11/site-packages (from requests->requests_html) (3.2.0)\n",
      "Requirement already satisfied: idna<4,>=2.5 in /usr/local/lib/python3.11/site-packages (from requests->requests_html) (3.4)\n",
      "Requirement already satisfied: zipp>=0.5 in /usr/local/lib/python3.11/site-packages (from importlib-metadata>=1.4->pyppeteer>=0.0.14->requests_html) (3.16.2)\n",
      "Requirement already satisfied: soupsieve>1.2 in /usr/local/lib/python3.11/site-packages (from beautifulsoup4->bs4->requests_html) (2.4.1)\n",
      "\n",
      "\u001b[1m[\u001b[0m\u001b[34;49mnotice\u001b[0m\u001b[1;39;49m]\u001b[0m\u001b[39;49m A new release of pip is available: \u001b[0m\u001b[31;49m23.0.1\u001b[0m\u001b[39;49m -> \u001b[0m\u001b[32;49m23.3.1\u001b[0m\n",
      "\u001b[1m[\u001b[0m\u001b[34;49mnotice\u001b[0m\u001b[1;39;49m]\u001b[0m\u001b[39;49m To update, run: \u001b[0m\u001b[32;49mpython3.11 -m pip install --upgrade pip\u001b[0m\n",
      "Requirement already satisfied: PyPDF2 in /usr/local/lib/python3.11/site-packages (3.0.1)\n",
      "\n",
      "\u001b[1m[\u001b[0m\u001b[34;49mnotice\u001b[0m\u001b[1;39;49m]\u001b[0m\u001b[39;49m A new release of pip is available: \u001b[0m\u001b[31;49m23.0.1\u001b[0m\u001b[39;49m -> \u001b[0m\u001b[32;49m23.3.1\u001b[0m\n",
      "\u001b[1m[\u001b[0m\u001b[34;49mnotice\u001b[0m\u001b[1;39;49m]\u001b[0m\u001b[39;49m To update, run: \u001b[0m\u001b[32;49mpython3.11 -m pip install --upgrade pip\u001b[0m\n",
      "Requirement already satisfied: rouge in /usr/local/lib/python3.11/site-packages (1.0.1)\n",
      "Requirement already satisfied: six in /usr/local/lib/python3.11/site-packages (from rouge) (1.16.0)\n",
      "\n",
      "\u001b[1m[\u001b[0m\u001b[34;49mnotice\u001b[0m\u001b[1;39;49m]\u001b[0m\u001b[39;49m A new release of pip is available: \u001b[0m\u001b[31;49m23.0.1\u001b[0m\u001b[39;49m -> \u001b[0m\u001b[32;49m23.3.1\u001b[0m\n",
      "\u001b[1m[\u001b[0m\u001b[34;49mnotice\u001b[0m\u001b[1;39;49m]\u001b[0m\u001b[39;49m To update, run: \u001b[0m\u001b[32;49mpython3.11 -m pip install --upgrade pip\u001b[0m\n",
      "Requirement already satisfied: openpyxl in /usr/local/lib/python3.11/site-packages (3.1.2)\n",
      "Requirement already satisfied: et-xmlfile in /usr/local/lib/python3.11/site-packages (from openpyxl) (1.1.0)\n",
      "\n",
      "\u001b[1m[\u001b[0m\u001b[34;49mnotice\u001b[0m\u001b[1;39;49m]\u001b[0m\u001b[39;49m A new release of pip is available: \u001b[0m\u001b[31;49m23.0.1\u001b[0m\u001b[39;49m -> \u001b[0m\u001b[32;49m23.3.1\u001b[0m\n",
      "\u001b[1m[\u001b[0m\u001b[34;49mnotice\u001b[0m\u001b[1;39;49m]\u001b[0m\u001b[39;49m To update, run: \u001b[0m\u001b[32;49mpython3.11 -m pip install --upgrade pip\u001b[0m\n"
     ]
    }
   ],
   "source": [
    "!pip3 install requests_html\n",
    "!pip3 install PyPDF2\n",
    "!pip3 install rouge\n",
    "!pip3 install openpyxl\n"
   ]
  },
  {
   "cell_type": "code",
   "execution_count": 27,
   "metadata": {},
   "outputs": [],
   "source": [
    "from requests_html import HTMLSession\n",
    "from requests.exceptions import ConnectionError\n",
    "from bs4 import BeautifulSoup\n",
    "import re\n",
    "from openpyxl import Workbook"
   ]
  },
  {
   "cell_type": "code",
   "execution_count": 28,
   "metadata": {},
   "outputs": [],
   "source": [
    "s= HTMLSession()"
   ]
  },
  {
   "cell_type": "code",
   "execution_count": 29,
   "metadata": {},
   "outputs": [],
   "source": [
    "def clean_string(text):\n",
    "    text = re.sub(r'\\s+', ' ', text)\n",
    "    text = text.strip()\n",
    "    text = text.replace('\\n', '')\n",
    "    return text\n",
    "\n",
    "def convert_to_map(lst):\n",
    "    map_dict = {item.split(':')[0].strip(): item.split(':')[1].strip() for item in lst}\n",
    "    return map_dict"
   ]
  },
  {
   "cell_type": "code",
   "execution_count": 30,
   "metadata": {},
   "outputs": [],
   "source": [
    "headers={'user-agent': 'Mozilla/5.0 (Macintosh; Intel Mac OS X 10_15_7) AppleWebKit/537.36 (KHTML, like Gecko) Chrome/113.0.0.0 Safari/537.36 Edg/113.0.1774.57'}\n",
    "file= open('input.txt','r')\n",
    "ids= file.readlines()\n",
    "base_url='https://pubmed.ncbi.nlm.nih.gov/'\n",
    "total_abstracts={}\n",
    "for id in ids:\n",
    "    pmcid= id.strip()\n",
    "    r=s.get(base_url+pmcid+'/',headers=headers,timeout=5)\n",
    "    soup = BeautifulSoup(r.content, 'html.parser')\n",
    "    div_abstract = soup.find('div', {'class': 'abstract'})\n",
    "\n",
    "    if div_abstract:\n",
    "        abstract_components= div_abstract.find_all('p')\n",
    "        abstract_components=[clean_string(abstract.text.strip()) for abstract in abstract_components]\n",
    "        total_abstracts[id]=abstract_components"
   ]
  },
  {
   "cell_type": "code",
   "execution_count": null,
   "metadata": {},
   "outputs": [
    {
     "data": {
      "text/plain": [
       "{'30297319\\n': ['Gestational diabetes mellitus (GDM) is the most common metabolic disturbance during pregnancy. The prevalence is rising and correlates with the increase in maternal obesity over recent decades. The etiology of GDM is complex, with genetic and environmental factors implicated in mechanistic and epidemiological studies. GDM begets important short- and long-term health risks for the mother, developing fetus, and offspring. This includes the high likelihood of subsequent maternal type 2 diabetes (T2DM), and possible adverse cardiometabolic phenotypes in the offspring. The most clinically and cost-effective methods of screening for GDM remain uncertain. Whilst treatments with lifestyle and pharmacological interventions have demonstrated short-term benefits, the long-term impact for the offspring of intrauterine exposure to antidiabetic medication remains unclear.',\n",
       "  'Keywords: diabetes and pregnancy; gestational diabetes mellitus.'],\n",
       " '29669543\\n': ['Cardiovascular disease (CVD) is the leading cause of mortality in people with type 2 diabetes mellitus (T2DM), yet a significant proportion of the disease burden cannot be accounted for by conventional cardiovascular risk factors. Hypertension occurs in majority of people with T2DM, which is substantially more frequent than would be anticipated based on general population samples. The impact of hypertension is considerably higher in people with diabetes than it is in the general population, suggesting either an increased sensitivity to its effect or a confounding underlying aetiopathogenic mechanism of hypertension associated with CVD within diabetes. In this contribution, we aim to review the changes observed in the vascular tree in people with T2DM compared to the general population, the effects of established anti-diabetes drugs on microvascular outcomes, and explore the hypotheses to account for common causalities of the increased prevalence of CVD and hypertension in people with T2DM.',\n",
       "  'Keywords: Cardiovascular disease; Hypertension; Microalbuminuria; Microcirculation; Microvascular changes; Type 2 diabetes mellitus.'],\n",
       " '27219496\\n': ['Objective: Development of these guidelines is mandated by the American Association of Clinical Endocrinologists (AACE) Board of Directors and the American College of Endocrinology (ACE) Board of Trustees and adheres to published AACE protocols for the standardized production of clinical practice guidelines (CPGs).',\n",
       "  'Methods: Recommendations are based on diligent review of clinical evidence with transparent incorporation of subjective factors.',\n",
       "  'Results: There are 9 broad clinical questions with 123 recommendation numbers that include 160 specific statements (85 [53.1%] strong [Grade A]; 48 [30.0%] intermediate [Grade B], and 11 [6.9%] weak [Grade C], with 16 [10.0%] based on expert opinion [Grade D]) that build a comprehensive medical care plan for obesity. There were 133 (83.1%) statements based on strong (best evidence level [BEL] 1 = 79 [49.4%]) or intermediate (BEL 2 = 54 [33.7%]) levels of scientific substantiation. There were 34 (23.6%) evidence-based recommendation grades (Grades A-C = 144) that were adjusted based on subjective factors. Among the 1,790 reference citations used in this CPG, 524 (29.3%) were based on strong (evidence level [EL] 1), 605 (33.8%) were based on intermediate (EL 2), and 308 (17.2%) were based on weak (EL 3) scientific studies, with 353 (19.7%) based on reviews and opinions (EL 4).',\n",
       "  'Conclusion: The final recommendations recognize that obesity is a complex, adiposity-based chronic disease, where management targets both weight-related complications and adiposity to improve overall health and quality of life. The detailed evidence-based recommendations allow for nuanced clinical decision-making that addresses real-world medical care of patients with obesity, including screening, diagnosis, evaluation, selection of therapy, treatment goals, and individualization of care. The goal is to facilitate high-quality care of patients with obesity and provide a rational, scientific approach to management that optimizes health outcomes and safety.',\n",
       "  \"Abbreviations: A1C = hemoglobin A1c AACE = American Association of Clinical Endocrinologists ACE = American College of Endocrinology ACSM = American College of Sports Medicine ADA = American Diabetes Association ADAPT = Arthritis, Diet, and Activity Promotion Trial ADHD = attention-deficit hyperactivity disorder AHA = American Heart Association AHEAD = Action for Health in Diabetes AHI = apnea-hypopnea index ALT = alanine aminotransferase AMA = American Medical Association ARB = angiotensin receptor blocker ART = assisted reproductive technology AUC = area under the curve BDI = Beck Depression Inventory BED = binge eating disorder BEL = best evidence level BLOOM = Behavioral Modification and Lorcaserin for Overweight and Obesity Management BLOSSOM = Behavioral Modification and Lorcaserin Second Study for Obesity Management BMI = body mass index BP = blood pressure C-SSRS = Columbia Suicidality Severity Rating Scale CAD = coronary artery disease CARDIA = Coronary Artery Risk Development in Young Adults CBT = cognitive behavioral therapy CCO = Consensus Conference on Obesity CHF = congestive heart failure CHO = carbohydrate CI = confidence interval COR-I = Contrave Obesity Research I CPG = clinical practice guideline CV = cardiovascular CVD = cardiovascular disease DASH = Dietary Approaches to Stop Hypertension DBP = diastolic blood pressure DEXA = dual-energy X-ray absorptiometry DPP = Diabetes Prevention Program DSE = diabetes support and education EL = evidence level ED = erectile dysfunction ER = extended release EWL = excess weight loss FDA = Food and Drug Administration FDG = 18F-fluorodeoxyglucose GABA = gamma-aminobutyric acid GERD = gastroesophageal reflux disease GI = gastrointestinal GLP-1 = glucagon-like peptide 1 HADS = Hospital Anxiety and Depression Scale HDL-c = high-density lipoprotein cholesterol HR = hazard ratio HTN = hypertension HUNT = Nord-Trøndelag Health Study ICSI = intracytoplasmic sperm injection IFG = impaired fasting glucose IGT = impaired glucose tolerance ILI = intensive lifestyle intervention IVF = in vitro fertilization LAGB = laparoscopic adjustable gastric banding LDL-c = low-density lipoprotein cholesterol LES = lower esophageal sphincter LSG = laparoscopic sleeve gastrectomy LV = left ventricle LVH = left ventricular hypertrophy LVBG = laparoscopic vertical banded gastroplasty MACE = major adverse cardiovascular events MAOI = monoamine oxidase inhibitor MI = myocardial infarction MNRCT = meta-analysis of non-randomized prospective or case-controlled trials MRI = magnetic resonance imaging MUFA = monounsaturated fatty acid NAFLD = nonalcoholic fatty liver disease NASH = nonalcoholic steatohepatitis NES = night eating syndrome NHANES = National Health and Nutrition Examination Surveys NHLBI = National Heart, Lung, and Blood Institute NHS = Nurses' Health Study NICE = National Institute for Health and Care Excellence OA = osteoarthritis OGTT = oral glucose tolerance test OR = odds ratio OSA = obstructive sleep apnea PHQ-9 = Patient Health Questionnaire PCOS = polycystic ovary syndrome PCP = primary care physician POMC = pro-opiomelanocortin POWER = Practice-Based Opportunities for Weight Reduction PPI = proton pump inhibitor PRIDE = Program to Reduce Incontinence by Diet and Exercise PSA = prostate specific antigen QOL = quality of life RA = receptor agonist RCT = randomized controlled trial ROC = receiver operator characteristic RR = relative risk RYGB = Roux-en-Y gastric bypass SAD = sagittal abdominal diameter SBP = systolic blood pressure SCOUT = Sibutramine Cardiovascular Outcome Trial SG = sleeve gastrectomy SHBG = sex hormonebinding globulin SIEDY = Structured Interview on Erectile Dysfunction SNRI = serotonin-norepinephrine reuptake inhibitors SOS = Swedish Obese Subjects SS = surveillance study SSRI = selective serotonin reuptake inhibitors STORM = Sibutramine Trial on Obesity Reduction and Maintenance TCA = tricyclic antidepressant TONE = Trial of Nonpharmacologic Intervention in the Elderly TOS = The Obesity Society T2DM = type 2 diabetes mellitus UKPDS = United Kingdom Prospective Diabetes Study U.S = United States VAT = visceral adipose tissue VLDL = very low-density lipoprotein WC = waist circumference WHO = World Health Organization WHR = waist-hip ratio WHtR = waist-to-height ratio WMD = weighted mean difference WOMAC = Western Ontario and McMaster Universities osteoarthritis index XENDOS = XEnical in the Prevention of Diabetes in Obese Subjects.\"],\n",
       " '32899917\\n': ['Background: Although the body of evidence indicates clear benefits of dietary modifications for prevention of type-2 diabetes mellitus (T2DM), it may be difficult for healthcare providers to recommend which diet interventions or dietary factors are appropriate for patients as there are too many modalities available. Accordingly, we performed an umbrella review to synthesize evidence on diet interventions and dietary factors in prevention of T2DM.',\n",
       "  'Methods: Medline and Scopus databases were searched for relevant studies. Systematic reviews with meta-analyses of randomized-controlled trial or observational studies were eligible if they measured effects of diet interventions and/or dietary factors including dietary patterns, food groups, and nutrients on risk of T2DM. The effect of each diet intervention/factor was summarized qualitatively.',\n",
       "  'Results: Sixty systematic reviews and meta-analyses were eligible. Results of the review suggest that healthy dietary patterns such as Mediterranean and Dietary Approaches to Stop Hypertension (DASH) diets, and high consumption of whole grains, low-fat dairy products, yogurt, olive oil, chocolate, fiber, magnesium, and flavonoid significantly reduced the risk of T2DM. In contrast, high glycemic index and glycemic load diets, high consumption of red and processed meat, and sugar or artificial sugar-sweetened beverages significantly increased risk of T2DM. Prescribing diet interventions with or without physical activity interventions significantly decreased risk of T2DM in both high-risk and general population.',\n",
       "  'Conclusion: High consumption of Mediterranean and DASH diet, and interventions that modified the quality of diet intake significantly reduced risk of T2DM especially in the high-risk population. These lifestyle modifications should be promoted in both individual and population levels to prevent and decrease burden from T2DM in the future.',\n",
       "  'Keywords: diabetes mellitus; dietary patterns; food; nutrient; systematic review.'],\n",
       " '33652942\\n': ['Non-alcoholic fatty liver disease (NAFLD) is to date the most common chronic liver disease in clinical practice and, consequently, a major health problem worldwide. It affects approximately 30% of adults in the general population and up to 70% of patients with type 2 diabetes (T2DM). Despite the current knowledge of the epidemiology, pathogenesis, and natural history of NAFLD, no specific pharmacological therapies are until now approved for this disease and, consequently, general strategies have been proposed to manage it. They include: (a) lifestyle change in order to promote weight loss by diet and physical activity, (b) control of the main cardiometabolic risk factors, (c) correction of all modifiable risk factors leading the development and progression of advanced forms of NAFLD, and (d) prevention of hepatic and extra-hepatic complications. In the last decade, several potential agents have been widely investigated for the treatment of NAFLD and its advanced forms-shedding some light but casting a few shadows. They include some glucose-lowering drugs (such as pioglitazone, glucagon-like peptide-1 (GLP-1) receptor agonists, sodium-glucose co-transporter-2 (SGLT-2) inhibitors), antioxidants (such as vitamin E), statins or other lipid lowering agents, bile and non-bile acid farnesoid X activated receptor (FXR) agonists, and others. This narrative review discusses in detail the different available approaches with the potential to prevent and treat NAFLD and its advanced forms.',\n",
       "  'Keywords: MAFLD; NAFLD; metabolic associated fatty liver disease; non-alcoholic fatty liver disease; non-alcoholic steatohepatitis.'],\n",
       " '29122390\\n': ['Non-alcoholic fatty liver disease (NAFLD) has become one of the most common forms of chronic liver disease worldwide and its prevalence is expected to continue rising. NAFLD has traditionally been considered a consequence of metabolic syndrome (MetS). However, the link between NAFLD and MetS components, especially type 2 diabetes mellitus (T2DM), hypertension (HTN), and cardiovascular disease (CVD) is more complex than previously thought. Indeed, the adverse effects of NAFLD extend far beyond the liver, with a large body of clinical evidence now suggesting that NAFLD may precede and/or promote the development of T2DM, HTN and atherosclerosis/CVD. The risk of developing these cardiometabolic diseases parallels the underlying severity of NAFLD. Accumulating evidence suggests that the presence and severity of NAFLD is associated with an increased risk of incident T2DM and HTN. Moreover, long-term prospective studies indicate that the presence and severity of NAFLD independently predicts fatal and nonfatal CVD events. In this review, we critically discuss the rapidly expanding body of clinical evidence that supports the existence of a bi-directional relationship between NAFLD and various components of MetS, particularly T2DM and HTN, as well as the current knowledge regarding a strong association between NAFLD and CVD morbidity and mortality. Finally, we discuss the most updated putative biological mechanisms through which NAFLD may contribute to the development of HTN, T2DM and CVD.',\n",
       "  'Keywords: Cardiovascular disease; Diabetes; Hypertension; NAFLD; NASH.'],\n",
       " '30179134\\n': ['The metabolic syndrome (MetS) comprises individual components including central obesity, insulin resistance, dyslipidaemia and hypertension and it is associated with an increased risk of cardiovascular disease (CVD) and type 2 diabetes mellitus (T2DM). The menopause per se increases the incidence of MetS in aging women. The effect(s) of menopause on individual components of MetS include: i) increasing central obesity with changes in the fat tissue distribution, ii) potential increase in insulin resistance, iii) changes in serum lipid concentrations, which seem to be associated with increasing weight rather than menopause itself, and, iv) an association between menopause and hypertension, although available data are inconclusive. With regard to the consequences of MetS during menopause, there is no consistent data supporting a causal relationship between menopause and CVD. However, concomitant MetS during menopause appears to increase the risk of CVD. Furthermore, despite the data supporting the association between early menopause and increased risk of T2DM, the association between natural menopause itself and risk of T2DM is not evident. However, the presence and the severity of MetS appears to be associated with an increased risk of T2DM. Although the mechanism is not clear, surgical menopause is strongly linked with a higher incidence of MetS. Interestingly, women with polycystic ovary syndrome (PCOS) have an increased risk of MetS during their reproductive years; however, with menopausal transition, the risk of MetS becomes similar to that of non-PCOS women.',\n",
       "  'Keywords: Metabolic syndrome; PCOS; androgens; insulin resistance; menopause; surgical menopause..'],\n",
       " '29704920\\n': ['Two-thirds of patients with type 2 diabetes mellitus (T2DM) have arterial hypertension. Hypertension increases the incidence of both micro- and macrovascular complications in these patients, while the co-existence of these two major risk factors leads to a four-fold increased risk for cardiovascular disease (CVD) compared with normotensive non-diabetic controls. The aim of this article is to comprehensively review the literature and present updated information on targets for blood pressure (BP) and on the management of hypertension in patients with T2DM. A BP target of <140/90 mmHg applies to most patients, but individualization is always important. All classes of antihypertensive drugs can be used in the management of hypertension in patients with T2DM, as long as they are effective and safe and after taking co-morbidities into account. Angiotensin-converting-enzyme (ACE) inhibitors or angiotensin receptor blockers (ARBs) are the ideal choice for initial or early treatment of hypertension in patients with T2DM and albuminuria. Combination of two or more drugs seems to be inevitable as most of these patients demonstrate resistant hypertension. The combination of ACE inhibitors with ARBs should be avoided. Thiazide and thiazide-like diuretics might be beneficial, alone or in a fixed-dose combination with ACE inhibitors or ARBs. Calcium channel blockers (CCBs) constitute an ideal option as a second- or third-line agent. Beta-blockers are not considered as first-line antihypertensive agents, except for those patients with heart failure or previous myocardial infarction. The addition of mineralocorticoid receptor antagonists to a triple-drug therapy seems the next ideal step. Gender-specific characteristics regarding BP, T2DM and CVD should be taken into consideration, even if different recommendations do not exist yet.',\n",
       "  'Keywords: Hypertension; Management; Targets; Type 2 diabetes.'],\n",
       " '32529512\\n': ['Although consumption of sugar-sweetened beverages (SSBs) and artificially sweetened beverages (ASBs) has increasingly been linked with obesity, type 2 diabetes mellitus, hypertension, and all-cause mortality, evidence remains conflicted and dose-response meta-analyses of the associations are lacking. We conducted an updated meta-analysis to synthesize the knowledge about their associations and to explore their dose-response relations. We comprehensively searched PubMed, EMBASE, Web of Science, and Open Grey up to September 2019 for prospective cohort studies investigating the associations in adults. Summary relative risks (RRs) and 95% confidence intervals (CIs) were estimated for the dose-response association. Restricted cubic splines were used to evaluate linear/non-linear relations. We included 39 articles in the meta-analysis. For each 250-mL/d increase in SSB and ASB intake, the risk increased by 12% (RR = 1.12, 95% CI 1.05-1.19, I2 = 67.7%) and 21% (RR = 1.21, 95% CI 1.09-1.35, I2 = 47.2%) for obesity, 19% (RR = 1.19, 95% CI 1.13-1.25, I2 = 82.4%) and 15% (RR = 1.15, 95% CI 1.05-1.26, I2 = 92.6%) for T2DM, 10% (RR = 1.10, 95% CI 1.06-1.14, I2 = 58.4%) and 8% (RR = 1.08, 95% CI 1.06-1.10, I2 = 24.3%) for hypertension, and 4% (RR = 1.04, 95% CI 1.01-1.07, I2 = 58.0%) and 6% (RR = 1.06, 95% CI 1.02-1.10, I2 = 80.8%) for all-cause mortality. For SSBs, restricted cubic splines showed linear associations with risk of obesity (Pnon-linearity = 0.359), T2DM (Pnon-linearity = 0.706), hypertension (Pnon-linearity = 0.510) and all-cause mortality (Pnon-linearity = 0.259). For ASBs, we found linear associations with risk of obesity (Pnon-linearity = 0.299) and T2DM (Pnon-linearity = 0.847) and non-linear associations with hypertension (Pnon-linearity = 0.019) and all-cause mortality (Pnon-linearity = 0.048). Increased consumption of SSBs and ASBs is associated with risk of obesity, T2DM, hypertension, and all-cause mortality. However, the results should be interpreted cautiously because the present analyses were based on only cohort but not intervention studies.',\n",
       "  'Keywords: All-cause mortality; Hypertension; Meta-analysis; Obesity; Prospective cohort studies; Sweetened beverages; Type 2 diabetes mellitus.'],\n",
       " '20301444\\n': ['Clinical characteristics: Alström syndrome is characterized by cone-rod dystrophy, obesity, progressive bilateral sensorineural hearing impairment, acute infantile-onset cardiomyopathy and/or adolescent- or adult-onset restrictive cardiomyopathy, insulin resistance / type 2 diabetes mellitus (T2DM), nonalcoholic fatty liver disease (NAFLD), and chronic progressive kidney disease. Cone-rod dystrophy presents as progressive visual impairment, photophobia, and nystagmus usually starting between birth and age 15 months. Many individuals lose all perception of light by the end of the second decade, but a minority retain the ability to read large print into the third decade. Children usually have normal birth weight but develop truncal obesity during their first year. Sensorineural hearing loss presents in the first decade in as many as 70% of individuals and may progress to the severe or moderately severe range (40-70 db) by the end of the first to second decade. Insulin resistance is typically accompanied by the skin changes of acanthosis nigricans, and proceeds to T2DM in the majority by the third decade. Nearly all demonstrate hypertriglyceridemia.',\n",
       "  'Other findings can include endocrine abnormalities (hypothyroidism, hypogonadotropic hypogonadism in males, and hyperandrogenism in females), urologic dysfunction / detrusor instability, progressive decrease in renal function, and hepatic disease (ranging from elevated transaminases to steatohepatitis/NAFLD). Approximately 20% of affected individuals have delay in early developmental milestones, most commonly in gross and fine motor skills. About 30% have a learning disability. Cognitive impairment (IQ <70) is very rare.',\n",
       "  'Wide clinical variability is observed among affected individuals, even within the same family.',\n",
       "  'Diagnosis/testing: The clinical diagnosis of Alström syndrome is based on cardinal clinical features that emerge throughout infancy, childhood, and young adulthood. The molecular diagnosis of Alström syndrome is established in individuals of all ages by identification of biallelic pathogenic variants in ALMS1 on molecular genetic testing.',\n",
       "  'Management: Treatment of manifestations: No therapy exists to prevent the progressive organ involvement of Alström syndrome. Individuals with Alström syndrome require coordinated multidisciplinary care to formulate management and therapeutic interventions. Red-orange tinted prescription lenses may reduce symptoms of photodysphoria; early educational planning should be based on the certainty of blindness. Obesity and insulin resistance are managed by a healthful, reduced-calorie diet with restricted simple carbohydrate intake and regular aerobic exercise. Myringotomy and/or hearing aids as needed for hearing impairment. Standard therapy for heart failure / cardiomyopathy. Standard treatment of insulin resistance / T2DM as in the general population. Consider nicotinic acid derivatives for hyperlipidemia; consultation with an endocrinologist if pubertal development and/or menses are abnormal; urinary diversion or self-catheterization in those with voiding difficulties; renal transplantation has been successful in a number of cases; appropriate therapy for portal hypertension and esophageal varices.',\n",
       "  'Surveillance: Routine assessment of vision and hearing; weight, height, and body mass index; heart (including echocardiography and EKG in all individuals, and MRI in those age >18 years); postprandial c-peptide and glucose and HbA1C starting at age four years; lipid profile; plasma ALT, AST, and GGT concentrations; thyroid function. Twice-yearly CBC, electrolytes, BUN, creatinine, cystatin-C, uric acid, urinalysis. Renal and bladder ultrasound examinations every one to two years if symptomatic and/or if urinalysis is abnormal.',\n",
       "  'Agents/circumstances to avoid: Any substance contraindicated in persons with renal, hepatic, and/or myocardial disease. Therapy directed at one system may have adverse effects on other systems; for example, the use of glitazone therapy in diabetes mellitus is contraindicated in the presence of cardiac failure.',\n",
       "  'Evaluation of relatives at risk: It is appropriate to clarify the genetic status of apparently asymptomatic older and younger at-risk sibs of an individual with Alström syndrome in order to identify as early as possible those who would benefit from prompt evaluation for manifestations of Alström syndrome, initiation of treatment, and/or surveillance for age-related manifestations.',\n",
       "  'Genetic counseling: Alström syndrome is inherited in an autosomal recessive manner. At conception, each sib of an affected individual has a 25% chance of being affected, a 50% chance of being an asymptomatic carrier, and a 25% chance of being unaffected and not a carrier. When the ALMS1 pathogenic variants have been identified in an affected family member, carrier testing for at-risk relatives, prenatal testing for a pregnancy at increased risk, and preimplantation genetic testing are possible.']}"
      ]
     },
     "execution_count": 21,
     "metadata": {},
     "output_type": "execute_result"
    }
   ],
   "source": [
    "total_abstracts"
   ]
  },
  {
   "cell_type": "code",
   "execution_count": null,
   "metadata": {},
   "outputs": [],
   "source": [
    "def write_nested_map_to_excel(nested_map, filename):\n",
    "    workbook = Workbook()\n",
    "    sheet = workbook.active\n",
    "    row = 1\n",
    "    for outer_key, value_list in nested_map.items():\n",
    "        sheet.cell(row=row, column=1, value=outer_key)\n",
    "        sheet.cell(row=row, column=2, value=value_list[0])  # Assuming abstract is always the first item in the list\n",
    "        row += 1 \n",
    "    workbook.save(filename)"
   ]
  },
  {
   "cell_type": "code",
   "execution_count": null,
   "metadata": {},
   "outputs": [],
   "source": [
    "write_nested_map_to_excel(total_abstracts, 'output.xlsx')"
   ]
  }
 ],
 "metadata": {
  "kernelspec": {
   "display_name": "base",
   "language": "python",
   "name": "python3"
  },
  "language_info": {
   "codemirror_mode": {
    "name": "ipython",
    "version": 3
   },
   "file_extension": ".py",
   "mimetype": "text/x-python",
   "name": "python",
   "nbconvert_exporter": "python",
   "pygments_lexer": "ipython3",
   "version": "3.11.4"
  },
  "orig_nbformat": 4
 },
 "nbformat": 4,
 "nbformat_minor": 2
}
